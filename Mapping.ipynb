{
 "cells": [
  {
   "cell_type": "code",
   "execution_count": 2,
   "id": "4f47766a",
   "metadata": {},
   "outputs": [
    {
     "name": "stderr",
     "output_type": "stream",
     "text": [
      "[nltk_data] Downloading package brown to\n",
      "[nltk_data]     C:\\Users\\ASUS\\AppData\\Roaming\\nltk_data...\n",
      "[nltk_data]   Package brown is already up-to-date!\n"
     ]
    },
    {
     "data": {
      "text/plain": [
       "True"
      ]
     },
     "execution_count": 2,
     "metadata": {},
     "output_type": "execute_result"
    }
   ],
   "source": [
    "import nltk\n",
    "nltk.download('brown')"
   ]
  },
  {
   "cell_type": "code",
   "execution_count": 4,
   "id": "9ae3fb92",
   "metadata": {},
   "outputs": [
    {
     "name": "stdout",
     "output_type": "stream",
     "text": [
      "['adventure', 'belles_lettres', 'editorial', 'fiction', 'government', 'hobbies', 'humor', 'learned', 'lore', 'mystery', 'news', 'religion', 'reviews', 'romance', 'science_fiction']\n"
     ]
    }
   ],
   "source": [
    "from nltk.corpus import brown\n",
    "\n",
    "##A text corpus is a large body of text. Many corpora are designed to contain a careful balance of material in diff genres.\n",
    "print(brown.categories())"
   ]
  },
  {
   "cell_type": "code",
   "execution_count": 7,
   "id": "f0cb7be2",
   "metadata": {},
   "outputs": [
    {
     "name": "stdout",
     "output_type": "stream",
     "text": [
      "[['Assembly', 'session', 'brought', 'much', 'good'], ['The', 'General', 'Assembly', ',', 'which', 'adjourns', 'today', ',', 'has', 'performed', 'in', 'an', 'atmosphere', 'of', 'crisis', 'and', 'struggle', 'from', 'the', 'day', 'it', 'convened', '.'], ...]\n"
     ]
    }
   ],
   "source": [
    "## brown.sents? = return: the given file(s) as a list of sentences.\n",
    "data = brown.sents(categories='editorial')[:100]\n",
    "\n",
    "print(data)"
   ]
  },
  {
   "cell_type": "code",
   "execution_count": 9,
   "id": "bf0f1624",
   "metadata": {},
   "outputs": [
    {
     "name": "stderr",
     "output_type": "stream",
     "text": [
      "[nltk_data] Downloading package punkt to\n",
      "[nltk_data]     C:\\Users\\ASUS\\AppData\\Roaming\\nltk_data...\n",
      "[nltk_data]   Package punkt is already up-to-date!\n"
     ]
    },
    {
     "data": {
      "text/plain": [
       "True"
      ]
     },
     "execution_count": 9,
     "metadata": {},
     "output_type": "execute_result"
    }
   ],
   "source": [
    "##Tokenization - To convert given texts into words or sentences.\n",
    "text = \"It was a very pleasant day, the weather was cool and there were light showers. I went to the market to buy some flowers.\"\n",
    "##files required to use tokenizers.\n",
    "import nltk\n",
    "nltk.download('punkt')"
   ]
  },
  {
   "cell_type": "code",
   "execution_count": 11,
   "id": "87ba6a18",
   "metadata": {},
   "outputs": [
    {
     "name": "stdout",
     "output_type": "stream",
     "text": [
      "['It was a very pleasant day, the weather was cool and there were light showers.', 'I went to the market to buy some flowers.']\n"
     ]
    }
   ],
   "source": [
    "from nltk.tokenize import sent_tokenize,word_tokenize\n",
    "##tokenize every sentence.\n",
    "sents = sent_tokenize(text)\n",
    "print(sents)"
   ]
  },
  {
   "cell_type": "code",
   "execution_count": 13,
   "id": "e05656d0",
   "metadata": {},
   "outputs": [
    {
     "name": "stdout",
     "output_type": "stream",
     "text": [
      "['it', 'was', 'a', 'very', 'pleasant', 'day', ',', 'the', 'weather', 'was', 'cool', 'and', 'there', 'were', 'light', 'showers', '.', 'i', 'went', 'to', 'the', 'market', 'to', 'buy', 'some', 'flowers', '.']\n"
     ]
    }
   ],
   "source": [
    "##tokenze every word.\n",
    "new_sents = word_tokenize(text.lower())\n",
    "print(new_sents)"
   ]
  },
  {
   "cell_type": "code",
   "execution_count": 20,
   "id": "374879b9",
   "metadata": {},
   "outputs": [
    {
     "name": "stdout",
     "output_type": "stream",
     "text": [
      "['It', 'was', 'a', 'very', 'pleasant', 'day', 'the', 'weather', 'was', 'cool', 'and', 'there', 'were', 'light', 'showers', 'I', 'went', 'to', 'the', 'market', 'to', 'buy', 'some', 'flowers']\n"
     ]
    }
   ],
   "source": [
    "from nltk.tokenize import RegexpTokenizer\n",
    "tokenizer = RegexpTokenizer(\"[a-zA-Z@]+\")\n",
    "print(tokenizer.tokenize(text))"
   ]
  },
  {
   "cell_type": "code",
   "execution_count": 14,
   "id": "9a1ba639",
   "metadata": {},
   "outputs": [
    {
     "name": "stderr",
     "output_type": "stream",
     "text": [
      "[nltk_data] Downloading package stopwords to\n",
      "[nltk_data]     C:\\Users\\ASUS\\AppData\\Roaming\\nltk_data...\n",
      "[nltk_data]   Package stopwords is already up-to-date!\n"
     ]
    },
    {
     "data": {
      "text/plain": [
       "True"
      ]
     },
     "execution_count": 14,
     "metadata": {},
     "output_type": "execute_result"
    }
   ],
   "source": [
    "import nltk\n",
    "nltk.download('stopwords')"
   ]
  },
  {
   "cell_type": "code",
   "execution_count": 15,
   "id": "6618bb9d",
   "metadata": {},
   "outputs": [],
   "source": [
    "from nltk.corpus import stopwords"
   ]
  },
  {
   "cell_type": "code",
   "execution_count": 17,
   "id": "5a2a2658",
   "metadata": {},
   "outputs": [
    {
     "name": "stdout",
     "output_type": "stream",
     "text": [
      "{'after', 'nor', 'before', 'an', 'y', 'who', 'through', 'wouldn', 'this', 'was', 'been', 'few', \"shouldn't\", 'does', 'as', 're', 'a', 'my', 'herself', 'shan', 'do', 'if', 'other', \"couldn't\", 'his', 'has', 'again', 'm', 'very', \"it's\", 'didn', 'won', 'all', 'don', 'haven', 'yours', \"she's\", 'up', 'myself', 'when', 'you', 'for', 'me', 'should', 'but', 'mightn', 'the', 'then', \"doesn't\", 'itself', 'weren', 'were', 'them', 'your', 'doesn', 'are', 'about', \"mightn't\", 'yourselves', 'where', 'in', 'ma', \"didn't\", 'above', 'couldn', 's', 'will', \"needn't\", 'to', 'off', 'hadn', \"don't\", \"hasn't\", 'they', 't', \"should've\", 'yourself', 'why', 'these', 'doing', 'out', 'same', 'from', 'did', 'during', 'more', 'having', \"you're\", 'into', 'what', 'each', 'over', 'only', 'than', \"won't\", 'too', 'how', 'both', 'that', 'hasn', 'll', 'at', 'i', 'aren', 'which', \"wouldn't\", 'there', 'not', 'be', 'of', 'until', 'while', \"aren't\", 'shouldn', \"you'd\", 'it', 'own', 'against', 'so', 'himself', 'needn', 'hers', 'below', 'she', 'no', \"you've\", 'him', \"isn't\", 'ain', 'theirs', 'is', 'we', 'themselves', 'down', 'our', 'he', 'with', \"hadn't\", \"weren't\", \"you'll\", \"haven't\", 'or', 'now', 'once', 'on', 'd', 'mustn', \"mustn't\", 'most', 'any', 'between', 'ourselves', \"shan't\", 'wasn', 'their', 'and', 'such', 'because', 'by', 'some', 've', 'isn', 'under', 'whom', 'further', 'here', 'its', 'her', 'can', \"wasn't\", 'have', 'those', 'o', 'ours', \"that'll\", 'being', 'am', 'had', 'just'}\n"
     ]
    }
   ],
   "source": [
    "sw = set(stopwords.words('english'))\n",
    "print(sw)"
   ]
  },
  {
   "cell_type": "code",
   "execution_count": 19,
   "id": "952f1e10",
   "metadata": {},
   "outputs": [
    {
     "name": "stdout",
     "output_type": "stream",
     "text": [
      "['pleasant', 'day', ',', 'weather', 'cool', 'light', 'showers', '.', 'went', 'market', 'buy', 'flowers', '.']\n"
     ]
    }
   ],
   "source": [
    "def filter_words(new_sents):\n",
    "    useful_words = [w for w in new_sents if w not in sw]\n",
    "    return useful_words\n",
    "\n",
    "\n",
    "without_sw = filter_words(new_sents)\n",
    "print(without_sw)"
   ]
  },
  {
   "cell_type": "code",
   "execution_count": 22,
   "id": "08bd2dfa",
   "metadata": {},
   "outputs": [
    {
     "name": "stdout",
     "output_type": "stream",
     "text": [
      "['pleasant', 'day', 'weather', 'cool', 'light', 'showers', 'went', 'market', 'buy', 'flowers']\n"
     ]
    }
   ],
   "source": [
    "import re\n",
    "punctuation = re.compile(r'[-.?!,:;()|0-9]')\n",
    "\n",
    "allWords = []\n",
    "\n",
    "for words in without_sw:\n",
    "    word = punctuation.sub(\"\", words)\n",
    "    if len(word)>0:\n",
    "        allWords.append(word)\n",
    "        \n",
    "print(allWords)"
   ]
  },
  {
   "cell_type": "code",
   "execution_count": 23,
   "id": "5c49676d",
   "metadata": {},
   "outputs": [],
   "source": [
    "from nltk.stem.snowball import PorterStemmer,SnowballStemmer\n",
    "from nltk.stem.lancaster import LancasterStemmer\n",
    "ps = PorterStemmer()"
   ]
  },
  {
   "cell_type": "code",
   "execution_count": 24,
   "id": "9be1bce0",
   "metadata": {},
   "outputs": [],
   "source": [
    "def stemming(word_list):\n",
    "    final = []\n",
    "    for w in word_list:\n",
    "        n = ps.stem(w)\n",
    "        final.append(n)\n",
    "    return final"
   ]
  },
  {
   "cell_type": "code",
   "execution_count": 26,
   "id": "27df0b92",
   "metadata": {},
   "outputs": [
    {
     "name": "stdout",
     "output_type": "stream",
     "text": [
      "['pleasant', 'day', 'weather', 'cool', 'light', 'shower', 'went', 'market', 'buy', 'flower']\n"
     ]
    }
   ],
   "source": [
    "print(stemming(allWords))"
   ]
  },
  {
   "cell_type": "code",
   "execution_count": 29,
   "id": "27ee13ae",
   "metadata": {},
   "outputs": [],
   "source": [
    "from nltk.corpus import wordnet"
   ]
  },
  {
   "cell_type": "code",
   "execution_count": 30,
   "id": "347216bc",
   "metadata": {},
   "outputs": [],
   "source": [
    "word_embeddings = {}\n",
    "\n",
    "for token in allWords:\n",
    "    synonymns = wordnet.synsets(token)\n",
    "    if synonymns:\n",
    "        word_embeddings[token] = synonymns[0].definition()"
   ]
  },
  {
   "cell_type": "code",
   "execution_count": 32,
   "id": "0345f0a9",
   "metadata": {},
   "outputs": [
    {
     "name": "stdout",
     "output_type": "stream",
     "text": [
      "Word: pleasant - Semantic Embedding: affording pleasure; being in harmony with your taste or likings\n",
      "Word: day - Semantic Embedding: time for Earth to make a complete rotation on its axis\n",
      "Word: weather - Semantic Embedding: the atmospheric conditions that comprise the state of the atmosphere in terms of temperature and wind and clouds and precipitation\n",
      "Word: cool - Semantic Embedding: the quality of being at a refreshingly low temperature\n",
      "Word: light - Semantic Embedding: (physics) electromagnetic radiation that can produce a visual sensation\n",
      "Word: showers - Semantic Embedding: a plumbing fixture that sprays water over you\n",
      "Word: went - Semantic Embedding: change location; move, travel, or proceed, also metaphorically\n",
      "Word: market - Semantic Embedding: the world of commercial activity where goods and services are bought and sold\n",
      "Word: buy - Semantic Embedding: an advantageous purchase\n",
      "Word: flowers - Semantic Embedding: a plant cultivated for its blooms or blossoms\n"
     ]
    }
   ],
   "source": [
    "for word, embedding in word_embeddings.items():\n",
    "    print(f\"Word: {word} - Semantic Embedding: {embedding}\")"
   ]
  },
  {
   "cell_type": "code",
   "execution_count": null,
   "id": "bea2729e",
   "metadata": {},
   "outputs": [],
   "source": []
  },
  {
   "cell_type": "code",
   "execution_count": null,
   "id": "9df29c41",
   "metadata": {},
   "outputs": [],
   "source": []
  },
  {
   "cell_type": "code",
   "execution_count": null,
   "id": "e047c71e",
   "metadata": {},
   "outputs": [],
   "source": []
  }
 ],
 "metadata": {
  "kernelspec": {
   "display_name": "Python 3 (ipykernel)",
   "language": "python",
   "name": "python3"
  },
  "language_info": {
   "codemirror_mode": {
    "name": "ipython",
    "version": 3
   },
   "file_extension": ".py",
   "mimetype": "text/x-python",
   "name": "python",
   "nbconvert_exporter": "python",
   "pygments_lexer": "ipython3",
   "version": "3.10.9"
  }
 },
 "nbformat": 4,
 "nbformat_minor": 5
}
