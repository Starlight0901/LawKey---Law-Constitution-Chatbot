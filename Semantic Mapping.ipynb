{
 "cells": [
  {
   "cell_type": "code",
   "execution_count": 1,
   "id": "5d71944f",
   "metadata": {},
   "outputs": [
    {
     "name": "stdout",
     "output_type": "stream",
     "text": [
      "Synonyms of 'good': {'full', 'adept', 'safe', 'right', 'skilful', 'skillful', 'well', 'serious', 'honorable', 'unspoilt', 'practiced', 'near', 'dear', 'upright', 'dependable', 'ripe', 'unspoiled', 'estimable', 'proficient', 'good', 'soundly', 'thoroughly', 'honest', 'trade_good', 'commodity', 'goodness', 'expert', 'effective', 'secure', 'beneficial', 'in_effect', 'salutary', 'respectable', 'just', 'undecomposed', 'in_force', 'sound'}\n"
     ]
    }
   ],
   "source": [
    "import nltk\n",
    "from nltk.corpus import wordnet\n",
    "\n",
    "# finding synonyms for the word 'good'\n",
    "\n",
    "word = \"good\"\n",
    "\n",
    "synonyms = []\n",
    "\n",
    "for w in wordnet.synsets(word):\n",
    "    for lemma in w.lemmas():\n",
    "        synonyms.append(lemma.name())\n",
    "        \n",
    "print(f\"Synonyms of '{word}': {set(synonyms)}\")"
   ]
  },
  {
   "cell_type": "code",
   "execution_count": 2,
   "id": "5226d8c0",
   "metadata": {},
   "outputs": [],
   "source": [
    "from nltk.tokenize import word_tokenize\n",
    "text = \"The study of celestial objects, such as stars, planets, galaxies, and the universe as a whole, is known as astronomy. Astronomers use various tools and techniques, including telescopes and satellites, to observe and analyze these cosmic entities. They investigate the properties, movements, and origins of celestial bodies, seeking to unravel the mysteries of the cosmos and understand the fundamental principles governing the vast expanse of space. From exploring the formation of black holes to studying the behavior of distant galaxies, astronomy plays a crucial role in expanding our knowledge of the universe and our place within it.\"\n",
    "\n",
    "tokens = nltk.word_tokenize(text)"
   ]
  },
  {
   "cell_type": "code",
   "execution_count": 3,
   "id": "8876b274",
   "metadata": {},
   "outputs": [],
   "source": [
    "# obtaining word embeddings\n",
    "\n",
    "word_embeddings = {}\n",
    "\n",
    "for token in tokens:\n",
    "    synonymns = wordnet.synsets(token)\n",
    "    if synonymns:\n",
    "        word_embeddings[token] = synonymns[0].definition()"
   ]
  },
  {
   "cell_type": "code",
   "execution_count": 4,
   "id": "bb3ffd8d",
   "metadata": {},
   "outputs": [
    {
     "name": "stdout",
     "output_type": "stream",
     "text": [
      "Word: study - Semantic Embedding: a detailed critical inspection\n",
      "Word: celestial - Semantic Embedding: of or relating to the sky\n",
      "Word: objects - Semantic Embedding: a tangible and visible entity; an entity that can cast a shadow\n",
      "Word: such - Semantic Embedding: of so extreme a degree or extent\n",
      "Word: as - Semantic Embedding: a very poisonous metallic element that has three allotropic forms; arsenic and arsenic compounds are used as herbicides and insecticides and various alloys; found in arsenopyrite and orpiment and realgar\n",
      "Word: stars - Semantic Embedding: (astronomy) a celestial body of hot gases that radiates energy derived from thermonuclear reactions in the interior\n",
      "Word: planets - Semantic Embedding: (astronomy) any of the nine large celestial bodies in the solar system that revolve around the sun and shine by reflected light; Mercury, Venus, Earth, Mars, Jupiter, Saturn, Uranus, Neptune, and Pluto in order of their proximity to the sun; viewed from the constellation Hercules, all the planets rotate around the sun in a counterclockwise direction\n",
      "Word: galaxies - Semantic Embedding: a splendid assemblage (especially of famous people)\n",
      "Word: universe - Semantic Embedding: everything that exists anywhere\n",
      "Word: a - Semantic Embedding: a metric unit of length equal to one ten billionth of a meter (or 0.0001 micron); used to specify wavelengths of electromagnetic radiation\n",
      "Word: whole - Semantic Embedding: all of something including all its component elements or parts\n",
      "Word: is - Semantic Embedding: have the quality of being; (copula, used with an adjective or a predicate noun)\n",
      "Word: known - Semantic Embedding: be cognizant or aware of a fact or a specific piece of information; possess knowledge or information about\n",
      "Word: astronomy - Semantic Embedding: the branch of physics that studies celestial bodies and the universe as a whole\n",
      "Word: Astronomers - Semantic Embedding: a physicist who studies astronomy\n",
      "Word: use - Semantic Embedding: the act of using\n",
      "Word: various - Semantic Embedding: of many different kinds purposefully arranged but lacking any uniformity\n",
      "Word: tools - Semantic Embedding: an implement used in the practice of a vocation\n",
      "Word: techniques - Semantic Embedding: a practical method or art applied to some particular task\n",
      "Word: including - Semantic Embedding: have as a part, be made up out of\n",
      "Word: telescopes - Semantic Embedding: a magnifier of images of distant objects\n",
      "Word: satellites - Semantic Embedding: man-made equipment that orbits around the earth or the moon\n",
      "Word: observe - Semantic Embedding: discover or determine the existence, presence, or fact of\n",
      "Word: analyze - Semantic Embedding: consider in detail and subject to an analysis in order to discover essential features or meaning\n",
      "Word: cosmic - Semantic Embedding: of or from or pertaining to or characteristic of the cosmos or universe\n",
      "Word: entities - Semantic Embedding: that which is perceived or known or inferred to have its own distinct existence (living or nonliving)\n",
      "Word: investigate - Semantic Embedding: investigate scientifically\n",
      "Word: properties - Semantic Embedding: something owned; any tangible or intangible possession that is owned by someone\n",
      "Word: movements - Semantic Embedding: a change of position that does not entail a change of location\n",
      "Word: origins - Semantic Embedding: the place where something begins, where it springs into being\n",
      "Word: bodies - Semantic Embedding: the entire structure of an organism (an animal, plant, or human being)\n",
      "Word: seeking - Semantic Embedding: the act of searching for something\n",
      "Word: unravel - Semantic Embedding: become or cause to become undone by separating the fibers or threads of\n",
      "Word: mysteries - Semantic Embedding: something that baffles understanding and cannot be explained\n",
      "Word: cosmos - Semantic Embedding: everything that exists anywhere\n",
      "Word: understand - Semantic Embedding: know and comprehend the nature or meaning of\n",
      "Word: fundamental - Semantic Embedding: any factor that could be considered important to the understanding of a particular business\n",
      "Word: principles - Semantic Embedding: a basic generalization that is accepted as true and that can be used as a basis for reasoning or conduct\n",
      "Word: governing - Semantic Embedding: the act of governing; exercising authority\n",
      "Word: vast - Semantic Embedding: unusually great in size or amount or degree or especially extent or scope; ; ; ; ; ; ; ; ; - W.R.Inge\n",
      "Word: expanse - Semantic Embedding: a wide scope\n",
      "Word: space - Semantic Embedding: the unlimited expanse in which everything is located\n",
      "Word: exploring - Semantic Embedding: inquire into\n",
      "Word: formation - Semantic Embedding: an arrangement of people or things acting as a unit\n",
      "Word: black - Semantic Embedding: the quality or state of the achromatic color of least lightness (bearing the least resemblance to white)\n",
      "Word: holes - Semantic Embedding: an opening into or through something\n",
      "Word: studying - Semantic Embedding: reading carefully with intent to remember\n",
      "Word: behavior - Semantic Embedding: manner of acting or controlling yourself\n",
      "Word: distant - Semantic Embedding: separated in space or coming from or going to a distance\n",
      "Word: plays - Semantic Embedding: a dramatic work intended for performance by actors on a stage\n",
      "Word: crucial - Semantic Embedding: of extreme importance; vital to the resolution of a crisis\n",
      "Word: role - Semantic Embedding: the actions and activities assigned to or required or expected of a person or group\n",
      "Word: in - Semantic Embedding: a unit of length equal to one twelfth of a foot\n",
      "Word: expanding - Semantic Embedding: extend in one or more directions\n",
      "Word: knowledge - Semantic Embedding: the psychological result of perception and learning and reasoning\n",
      "Word: place - Semantic Embedding: a point located with respect to surface features of some region\n",
      "Word: within - Semantic Embedding: on the inside\n",
      "Word: it - Semantic Embedding: the branch of engineering that deals with the use of computers and telecommunications to retrieve and store and transmit information\n"
     ]
    }
   ],
   "source": [
    "# retreive information\n",
    "\n",
    "for word, embedding in word_embeddings.items():\n",
    "    print(f\"Word: {word} - Semantic Embedding: {embedding}\")"
   ]
  },
  {
   "cell_type": "code",
   "execution_count": null,
   "id": "79486437",
   "metadata": {},
   "outputs": [],
   "source": []
  }
 ],
 "metadata": {
  "kernelspec": {
   "display_name": "Python 3 (ipykernel)",
   "language": "python",
   "name": "python3"
  },
  "language_info": {
   "codemirror_mode": {
    "name": "ipython",
    "version": 3
   },
   "file_extension": ".py",
   "mimetype": "text/x-python",
   "name": "python",
   "nbconvert_exporter": "python",
   "pygments_lexer": "ipython3",
   "version": "3.10.9"
  }
 },
 "nbformat": 4,
 "nbformat_minor": 5
}
