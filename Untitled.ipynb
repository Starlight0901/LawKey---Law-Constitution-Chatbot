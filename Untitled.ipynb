{
 "cells": [
  {
   "cell_type": "code",
   "execution_count": 4,
   "id": "9668b8fb",
   "metadata": {},
   "outputs": [
    {
     "name": "stdout",
     "output_type": "stream",
     "text": [
      "['an', 'employee', 'is', 'facing', 'discrimination', 'at', 'their', 'workplace', 'based', 'on', 'factors', 'such', 'as', 'race', 'gender', 'age', 'religion', 'or', 'disability', 'Workplace', 'discrimination', 'can', 'manifest', 'in', 'various', 'forms', 'including', 'unequal', 'treatment', 'harassment', 'or', 'wrongful', 'termination', 'based', 'on', 'discriminatory', 'reasons']\n"
     ]
    }
   ],
   "source": [
    "input = \"an employee is facing discrimination at their workplace based on factors such as race, gender, age, religion, or disability. Workplace discrimination can manifest in various forms, including unequal treatment, harassment, or wrongful termination based on discriminatory reasons.\"\n",
    "\n",
    "import nltk\n",
    "from nltk.corpus import wordnet\n",
    "import re\n",
    "\n",
    "tokens = nltk.word_tokenize(input)\n",
    "\n",
    "\n",
    "punctuation = re.compile(r'[-.?!,:;()|0-9]')\n",
    "\n",
    "allWords = []\n",
    "\n",
    "for words in tokens:\n",
    "    word = punctuation.sub(\"\", words)\n",
    "    if len(word)>0:\n",
    "        allWords.append(word)\n",
    "        \n",
    "print(allWords)\n"
   ]
  },
  {
   "cell_type": "code",
   "execution_count": 5,
   "id": "3cb5943c",
   "metadata": {},
   "outputs": [
    {
     "name": "stdout",
     "output_type": "stream",
     "text": [
      "['employee', 'facing', 'discrimination', 'workplace', 'based', 'factors', 'race', 'gender', 'age', 'religion', 'disability', 'Workplace', 'discrimination', 'manifest', 'various', 'forms', 'including', 'unequal', 'treatment', 'harassment', 'wrongful', 'termination', 'based', 'discriminatory', 'reasons']\n"
     ]
    }
   ],
   "source": [
    "from nltk.corpus import stopwords\n",
    "stop_words = stopwords.words('english')\n",
    "filteredWords = []\n",
    "\n",
    "for word in allWords:\n",
    "    if word.lower() not in stop_words:\n",
    "        filteredWords.append(word)\n",
    "        \n",
    "print(filteredWords)"
   ]
  },
  {
   "cell_type": "code",
   "execution_count": 6,
   "id": "4cb57950",
   "metadata": {},
   "outputs": [],
   "source": [
    "word_embeddings = {}\n",
    "\n",
    "for token in filteredWords:\n",
    "    synonymns = wordnet.synsets(token)\n",
    "    if synonymns:\n",
    "        word_embeddings[token] = synonymns[0].definition()"
   ]
  },
  {
   "cell_type": "code",
   "execution_count": 7,
   "id": "f64c649c",
   "metadata": {},
   "outputs": [
    {
     "name": "stdout",
     "output_type": "stream",
     "text": [
      "Word: employee - Semantic Embedding: a worker who is hired to perform a job\n",
      "Word: facing - Semantic Embedding: a lining applied to the edge of a garment for ornamentation or strengthening\n",
      "Word: discrimination - Semantic Embedding: unfair treatment of a person or group on the basis of prejudice\n",
      "Word: workplace - Semantic Embedding: a place where work is done\n",
      "Word: based - Semantic Embedding: use as a basis for; found on\n",
      "Word: factors - Semantic Embedding: anything that contributes causally to a result\n",
      "Word: race - Semantic Embedding: any competition\n",
      "Word: gender - Semantic Embedding: a grammatical category in inflected languages governing the agreement between nouns and pronouns and adjectives; in some languages it is quite arbitrary but in Indo-European languages it is usually based on sex or animateness\n",
      "Word: age - Semantic Embedding: how long something has existed\n",
      "Word: religion - Semantic Embedding: a strong belief in a supernatural power or powers that control human destiny\n",
      "Word: disability - Semantic Embedding: the condition of being unable to perform as a consequence of physical or mental unfitness\n",
      "Word: Workplace - Semantic Embedding: a place where work is done\n",
      "Word: manifest - Semantic Embedding: a customs document listing the contents put on a ship or plane\n",
      "Word: various - Semantic Embedding: of many different kinds purposefully arranged but lacking any uniformity\n",
      "Word: forms - Semantic Embedding: the phonological or orthographic sound or appearance of a word that can be used to describe or identify something\n",
      "Word: including - Semantic Embedding: have as a part, be made up out of\n",
      "Word: unequal - Semantic Embedding: poorly balanced or matched in quantity or value or measure\n",
      "Word: treatment - Semantic Embedding: care provided to improve a situation (especially medical procedures or applications that are intended to relieve illness or injury)\n",
      "Word: harassment - Semantic Embedding: a feeling of intense annoyance caused by being tormented\n",
      "Word: wrongful - Semantic Embedding: having no legally established claim\n",
      "Word: termination - Semantic Embedding: a coming to an end of a contract period\n",
      "Word: discriminatory - Semantic Embedding: being biased or having a belief or attitude formed beforehand\n",
      "Word: reasons - Semantic Embedding: a rational motive for a belief or action\n"
     ]
    }
   ],
   "source": [
    "for word, embedding in word_embeddings.items():\n",
    "    print(f\"Word: {word} - Semantic Embedding: {embedding}\")"
   ]
  },
  {
   "cell_type": "code",
   "execution_count": 10,
   "id": "c97afd84",
   "metadata": {},
   "outputs": [
    {
     "name": "stdout",
     "output_type": "stream",
     "text": [
      "{}\n"
     ]
    }
   ],
   "source": [
    "# Sample laws data stored in a variable\n",
    "laws_data = \"\"\"\n",
    "    Law 1: prohibits discrimination based on race, color, religion, sex, or national origin in various aspects of public life, including employment and education. It is a key component of U.S. civil rights law.\n",
    "    Law 2: General Data Protection Regulation (GDPR) (European Union). The GDPR is a comprehensive data protection law that grants individuals in the European Union greater control over their personal data. It outlines principles for the lawful processing of personal information and sets stringent rules for businesses handling such data.\n",
    "    Law 3:  freedom of speech, religion, and the press. It serves as a constitutional guarantee of certain individual rights.\n",
    "\"\"\"\n",
    "\n",
    "# Sample keywords and their meanings\n",
    "word_embeddings\n",
    "\n",
    "# Function to map keyword meanings to laws data\n",
    "def map_keywords_to_laws(word_embeddings, laws_data):\n",
    "    mapped_data = {}\n",
    "\n",
    "    for keyword, meaning in word_embeddings.items():\n",
    "        if meaning in laws_data:\n",
    "            # You can extract and store the relevant portion of the law\n",
    "            relevant_law = extract_relevant_law(laws_data, meaning)\n",
    "            mapped_data[keyword] = relevant_law\n",
    "\n",
    "    return mapped_data\n",
    "\n",
    "# Function to extract relevant law based on meaning\n",
    "def extract_relevant_law(laws_data, meaning):\n",
    "    # Extracting the relevant portion of the law based on meaning\n",
    "    start_index = laws_data.find(meaning)\n",
    "    end_index = laws_data.find('\\n', start_index)  # Assuming laws end with a newline character\n",
    "\n",
    "    if start_index != -1 and end_index != -1:\n",
    "        return laws_data[start_index:end_index].strip()\n",
    "    else:\n",
    "        return \"No relevant law found\"\n",
    "\n",
    "# Map keywords to laws data\n",
    "mapped_keywords_data = map_keywords_to_laws(keywords_meanings, laws_data)\n",
    "print(mapped_keywords_data)\n",
    "\n",
    "# Display the mapped data\n",
    "for keyword, law in mapped_keywords_data.items():\n",
    "    print(f\"Keyword: {keyword}, Relevant Law: {law}\")\n"
   ]
  }
 ],
 "metadata": {
  "kernelspec": {
   "display_name": "Python 3 (ipykernel)",
   "language": "python",
   "name": "python3"
  },
  "language_info": {
   "codemirror_mode": {
    "name": "ipython",
    "version": 3
   },
   "file_extension": ".py",
   "mimetype": "text/x-python",
   "name": "python",
   "nbconvert_exporter": "python",
   "pygments_lexer": "ipython3",
   "version": "3.10.9"
  }
 },
 "nbformat": 4,
 "nbformat_minor": 5
}
